{
 "cells": [
  {
   "cell_type": "code",
   "execution_count": 1,
   "metadata": {},
   "outputs": [],
   "source": [
    "import sqlite3\n",
    "import pandas as pd"
   ]
  },
  {
   "cell_type": "code",
   "execution_count": 2,
   "metadata": {},
   "outputs": [],
   "source": [
    "conn = sqlite3.connect('data/main1.db')\n",
    "\n",
    "# Create a cursor object to interact with the database\n",
    "cursor = conn.cursor()"
   ]
  },
  {
   "cell_type": "code",
   "execution_count": 3,
   "metadata": {},
   "outputs": [
    {
     "name": "stdout",
     "output_type": "stream",
     "text": [
      "Tables in the database:\n",
      "picks\n",
      "schedule\n",
      "users\n"
     ]
    }
   ],
   "source": [
    "# Query to get all table names from sqlite_master where type is 'table'\n",
    "cursor.execute(\"SELECT name FROM sqlite_master WHERE type='table' ORDER BY name;\")\n",
    "\n",
    "# Fetch all the table names\n",
    "tables = cursor.fetchall()\n",
    "\n",
    "# Print each table name\n",
    "print(\"Tables in the database:\")\n",
    "for table in tables:\n",
    "    # Each table is a tuple with one element, so we access the first element [0]\n",
    "    print(table[0])\n"
   ]
  },
  {
   "cell_type": "code",
   "execution_count": 5,
   "metadata": {},
   "outputs": [
    {
     "name": "stdout",
     "output_type": "stream",
     "text": [
      "Attributes of the 'schedule' table:\n",
      "['game_id', 'datetime', 'home_team', 'away_team']\n",
      "\n",
      "Rows from the 'schedule' table:\n"
     ]
    }
   ],
   "source": [
    "cursor.execute(\"SELECT * FROM schedule\")\n",
    "\n",
    "rows = cursor.fetchall()\n",
    "# Get column names (attributes) from the cursor description\n",
    "columns = [description[0] for description in cursor.description]\n",
    "\n",
    "# Print the column names\n",
    "print(\"Attributes of the 'schedule' table:\")\n",
    "print(columns)\n",
    "\n",
    "print(\"\\nRows from the 'schedule' table:\")\n",
    "\n",
    "for row in rows:\n",
    "    print(row)"
   ]
  },
  {
   "cell_type": "code",
   "execution_count": null,
   "metadata": {},
   "outputs": [],
   "source": []
  }
 ],
 "metadata": {
  "kernelspec": {
   "display_name": "base",
   "language": "python",
   "name": "python3"
  },
  "language_info": {
   "codemirror_mode": {
    "name": "ipython",
    "version": 3
   },
   "file_extension": ".py",
   "mimetype": "text/x-python",
   "name": "python",
   "nbconvert_exporter": "python",
   "pygments_lexer": "ipython3",
   "version": "3.11.8"
  }
 },
 "nbformat": 4,
 "nbformat_minor": 2
}
